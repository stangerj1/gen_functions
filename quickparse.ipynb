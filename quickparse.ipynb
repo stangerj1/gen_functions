{
 "cells": [
  {
   "cell_type": "code",
   "execution_count": 19,
   "id": "conscious-health",
   "metadata": {},
   "outputs": [],
   "source": [
    "import numpy as np"
   ]
  },
  {
   "cell_type": "code",
   "execution_count": 48,
   "id": "electoral-semiconductor",
   "metadata": {},
   "outputs": [],
   "source": [
    "def parse_vals(string, start, end, delimiter):\n",
    "    \n",
    "    if type(string) == str:\n",
    "        \n",
    "        while string.find(start) != -1:\n",
    "            temp_index = string.find(start)\n",
    "            string = string[temp_index+1:]\n",
    "        try:\n",
    "            string = string[:string.find(end)]\n",
    "        except:\n",
    "            string = \"ending occurs before last start instance\"\n",
    "        \n",
    "        temp_list = list(string.split(delimiter))\n",
    "        \n",
    "        list_len = len(temp_list)\n",
    "        for i in range(list_len):\n",
    "            \n",
    "            temp_list[i] = temp_list[i].strip(' \\t\\n\\r')\n",
    "\n",
    "        try:\n",
    "            return_val = list(map(int,temp_list))\n",
    "        except: \n",
    "            return_val = [\"not integers\"]\n",
    "        \n",
    "    else:\n",
    "        return_val = [\"invalid string\"]\n",
    "        \n",
    "        \n",
    "    return np.array(return_val)"
   ]
  },
  {
   "cell_type": "code",
   "execution_count": 52,
   "id": "bridal-paraguay",
   "metadata": {},
   "outputs": [
    {
     "data": {
      "text/plain": [
       "array([ 1,  6, 85])"
      ]
     },
     "execution_count": 52,
     "metadata": {},
     "output_type": "execute_result"
    }
   ],
   "source": [
    "#example use\n",
    "stringr = \"oh[no[1,6\\t,  85]error]\"\n",
    "result = parse_vals(stringr,'[',']',',')\n",
    "result"
   ]
  },
  {
   "cell_type": "code",
   "execution_count": null,
   "id": "north-function",
   "metadata": {},
   "outputs": [],
   "source": []
  }
 ],
 "metadata": {
  "kernelspec": {
   "display_name": "Python 3",
   "language": "python",
   "name": "python3"
  },
  "language_info": {
   "codemirror_mode": {
    "name": "ipython",
    "version": 3
   },
   "file_extension": ".py",
   "mimetype": "text/x-python",
   "name": "python",
   "nbconvert_exporter": "python",
   "pygments_lexer": "ipython3",
   "version": "3.8.6"
  }
 },
 "nbformat": 4,
 "nbformat_minor": 5
}
